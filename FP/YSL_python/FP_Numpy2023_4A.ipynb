{
  "cells": [
    {
      "cell_type": "code",
      "execution_count": null,
      "metadata": {
        "id": "BSgpjIoNaUbw"
      },
      "outputs": [],
      "source": []
    },
    {
      "cell_type": "markdown",
      "metadata": {
        "id": "CoA0xl9dgk67"
      },
      "source": [
        "##Numpy Basics"
      ]
    },
    {
      "cell_type": "code",
      "execution_count": null,
      "metadata": {
        "colab": {
          "base_uri": "https://localhost:8080/",
          "height": 52
        },
        "id": "kuVQsZJwgrhu",
        "outputId": "68e1f50d-67df-4331-f7c2-45af45bf588f"
      },
      "outputs": [
        {
          "data": {
            "text/html": [
              "<style> \n",
              "    body {\n",
              "      font-size: 28px;\n",
              "    }\n",
              "  "
            ],
            "text/plain": [
              "<IPython.core.display.HTML object>"
            ]
          },
          "metadata": {},
          "output_type": "display_data"
        },
        {
          "name": "stdout",
          "output_type": "stream",
          "text": [
            "['ICT' 'Gnu' 'Ahmedabad']\n"
          ]
        }
      ],
      "source": [
        "import numpy as np \n",
        "a= np.array(['ICT','Gnu','Ahmedabad'])\n",
        "#print(type(a)) \n",
        "print(a) "
      ]
    },
    {
      "cell_type": "code",
      "execution_count": null,
      "metadata": {
        "id": "-I0sR7KNgtbB"
      },
      "outputs": [],
      "source": []
    },
    {
      "cell_type": "code",
      "execution_count": null,
      "metadata": {
        "colab": {
          "base_uri": "https://localhost:8080/",
          "height": 86
        },
        "id": "26kuUJiHgtdq",
        "outputId": "39026e91-ef59-451c-cb86-e80a9bd78d96"
      },
      "outputs": [
        {
          "data": {
            "text/html": [
              "<style> \n",
              "    body {\n",
              "      font-size: 28px;\n",
              "    }\n",
              "  "
            ],
            "text/plain": [
              "<IPython.core.display.HTML object>"
            ]
          },
          "metadata": {},
          "output_type": "display_data"
        },
        {
          "data": {
            "text/html": [
              "<style> \n",
              "    body {\n",
              "      font-size: 28px;\n",
              "    }\n",
              "  "
            ],
            "text/plain": [
              "<IPython.core.display.HTML object>"
            ]
          },
          "metadata": {},
          "output_type": "display_data"
        },
        {
          "name": "stdout",
          "output_type": "stream",
          "text": [
            "<class 'numpy.ndarray'>\n",
            "['ICT' 'Gnu' 'Ahmedabad']\n"
          ]
        }
      ],
      "source": [
        "import numpy as np \n",
        "a= np.array(['ICT','Gnu','Ahmedabad'])\n",
        "print(type(a)) \n",
        "print(a)"
      ]
    },
    {
      "cell_type": "code",
      "execution_count": null,
      "metadata": {
        "colab": {
          "base_uri": "https://localhost:8080/",
          "height": 52
        },
        "id": "3a8a2RLphWoQ",
        "outputId": "1f961d44-3ba2-41a1-fda1-c4eb7ca71972"
      },
      "outputs": [
        {
          "data": {
            "text/html": [
              "<style> \n",
              "    body {\n",
              "      font-size: 28px;\n",
              "    }\n",
              "  "
            ],
            "text/plain": [
              "<IPython.core.display.HTML object>"
            ]
          },
          "metadata": {},
          "output_type": "display_data"
        },
        {
          "data": {
            "text/html": [
              "<style> \n",
              "    body {\n",
              "      font-size: 28px;\n",
              "    }\n",
              "  "
            ],
            "text/plain": [
              "<IPython.core.display.HTML object>"
            ]
          },
          "metadata": {},
          "output_type": "display_data"
        },
        {
          "name": "stdout",
          "output_type": "stream",
          "text": [
            "[0 1 2 3 4 5 6 7 8 9]\n"
          ]
        }
      ],
      "source": [
        "import numpy as np \n",
        "b = np.arange(10) \n",
        "print(b)"
      ]
    },
    {
      "cell_type": "code",
      "execution_count": null,
      "metadata": {
        "colab": {
          "base_uri": "https://localhost:8080/",
          "height": 191
        },
        "id": "-kNmyCqZhWzm",
        "outputId": "de460496-7d2f-4ef5-9abc-5498b06431d9"
      },
      "outputs": [
        {
          "data": {
            "text/html": [
              "<style> \n",
              "    body {\n",
              "      font-size: 28px;\n",
              "    }\n",
              "  "
            ],
            "text/plain": [
              "<IPython.core.display.HTML object>"
            ]
          },
          "metadata": {},
          "output_type": "display_data"
        },
        {
          "data": {
            "text/html": [
              "<style> \n",
              "    body {\n",
              "      font-size: 28px;\n",
              "    }\n",
              "  "
            ],
            "text/plain": [
              "<IPython.core.display.HTML object>"
            ]
          },
          "metadata": {},
          "output_type": "display_data"
        },
        {
          "name": "stdout",
          "output_type": "stream",
          "text": [
            "0.0\n",
            "============\n",
            "[[0. 0. 0.]\n",
            " [0. 0. 0.]\n",
            " [0. 0. 0.]]\n"
          ]
        }
      ],
      "source": [
        "import numpy as np \n",
        "c = np.zeros(3) \n",
        "print(c[1]) \n",
        "print(\"============\")\n",
        "c1 = np.zeros((3,3)) #have not to give as tuple \n",
        "print(c1)"
      ]
    },
    {
      "cell_type": "code",
      "execution_count": null,
      "metadata": {
        "colab": {
          "base_uri": "https://localhost:8080/",
          "height": 191
        },
        "id": "rMTL49oMhW3T",
        "outputId": "d50238e9-5b07-4a71-d34c-1c4e8ccafdbc"
      },
      "outputs": [
        {
          "data": {
            "text/html": [
              "<style> \n",
              "    body {\n",
              "      font-size: 28px;\n",
              "    }\n",
              "  "
            ],
            "text/plain": [
              "<IPython.core.display.HTML object>"
            ]
          },
          "metadata": {},
          "output_type": "display_data"
        },
        {
          "data": {
            "text/html": [
              "<style> \n",
              "    body {\n",
              "      font-size: 28px;\n",
              "    }\n",
              "  "
            ],
            "text/plain": [
              "<IPython.core.display.HTML object>"
            ]
          },
          "metadata": {},
          "output_type": "display_data"
        },
        {
          "name": "stdout",
          "output_type": "stream",
          "text": [
            "1.0\n",
            "============\n",
            "[[1. 1. 1.]\n",
            " [1. 1. 1.]\n",
            " [1. 1. 1.]]\n"
          ]
        }
      ],
      "source": [
        "import numpy as np \n",
        "c = np.ones(3) \n",
        "print(c[1]) \n",
        "print(\"============\")\n",
        "c1 = np.ones((3,3)) #have not to give as tuple \n",
        "print(c1)"
      ]
    },
    {
      "cell_type": "code",
      "execution_count": null,
      "metadata": {
        "colab": {
          "base_uri": "https://localhost:8080/",
          "height": 121
        },
        "id": "_3ARr_vigtgw",
        "outputId": "178d2a1f-98f2-4534-8fb7-54e75cb56762"
      },
      "outputs": [
        {
          "data": {
            "text/html": [
              "<style> \n",
              "    body {\n",
              "      font-size: 28px;\n",
              "    }\n",
              "  "
            ],
            "text/plain": [
              "<IPython.core.display.HTML object>"
            ]
          },
          "metadata": {},
          "output_type": "display_data"
        },
        {
          "data": {
            "text/html": [
              "<style> \n",
              "    body {\n",
              "      font-size: 28px;\n",
              "    }\n",
              "  "
            ],
            "text/plain": [
              "<IPython.core.display.HTML object>"
            ]
          },
          "metadata": {},
          "output_type": "display_data"
        },
        {
          "name": "stdout",
          "output_type": "stream",
          "text": [
            "[[1. 0. 0.]\n",
            " [0. 1. 0.]\n",
            " [0. 0. 1.]]\n"
          ]
        }
      ],
      "source": [
        "import numpy as np \n",
        "b = np.eye(3) \n",
        "print(b)"
      ]
    },
    {
      "cell_type": "code",
      "execution_count": null,
      "metadata": {
        "colab": {
          "base_uri": "https://localhost:8080/",
          "height": 191
        },
        "id": "J3M_dIHngtjv",
        "outputId": "71001d97-5dfe-4813-a91b-a37c95299937"
      },
      "outputs": [
        {
          "data": {
            "text/html": [
              "<style> \n",
              "    body {\n",
              "      font-size: 28px;\n",
              "    }\n",
              "  "
            ],
            "text/plain": [
              "<IPython.core.display.HTML object>"
            ]
          },
          "metadata": {},
          "output_type": "display_data"
        },
        {
          "data": {
            "text/html": [
              "<style> \n",
              "    body {\n",
              "      font-size: 28px;\n",
              "    }\n",
              "  "
            ],
            "text/plain": [
              "<IPython.core.display.HTML object>"
            ]
          },
          "metadata": {},
          "output_type": "display_data"
        },
        {
          "name": "stdout",
          "output_type": "stream",
          "text": [
            "[[1. 0. 0. 0. 0.]\n",
            " [0. 1. 0. 0. 0.]\n",
            " [0. 0. 1. 0. 0.]\n",
            " [0. 0. 0. 1. 0.]\n",
            " [0. 0. 0. 0. 1.]]\n"
          ]
        }
      ],
      "source": [
        "import numpy as np \n",
        "b = np.identity(5) \n",
        "print(b)"
      ]
    },
    {
      "cell_type": "code",
      "execution_count": null,
      "metadata": {
        "colab": {
          "base_uri": "https://localhost:8080/",
          "height": 52
        },
        "id": "nu1QA93Dgtnc",
        "outputId": "1f86e1a2-0503-4a3c-f587-9f135f59c85e"
      },
      "outputs": [
        {
          "data": {
            "text/html": [
              "<style> \n",
              "    body {\n",
              "      font-size: 28px;\n",
              "    }\n",
              "  "
            ],
            "text/plain": [
              "<IPython.core.display.HTML object>"
            ]
          },
          "metadata": {},
          "output_type": "display_data"
        },
        {
          "data": {
            "text/html": [
              "<style> \n",
              "    body {\n",
              "      font-size: 28px;\n",
              "    }\n",
              "  "
            ],
            "text/plain": [
              "<IPython.core.display.HTML object>"
            ]
          },
          "metadata": {},
          "output_type": "display_data"
        },
        {
          "name": "stdout",
          "output_type": "stream",
          "text": [
            "[  1.    25.75  50.5   75.25 100.  ]\n"
          ]
        }
      ],
      "source": [
        "import numpy as np \n",
        "c = np.linspace(1,100,5) \n",
        "print(c)"
      ]
    },
    {
      "cell_type": "code",
      "execution_count": null,
      "metadata": {
        "colab": {
          "base_uri": "https://localhost:8080/",
          "height": 295
        },
        "id": "YTtql5m4ku9N",
        "outputId": "d4ab6afd-a277-41ee-a103-ec52cd4259b4"
      },
      "outputs": [
        {
          "data": {
            "text/html": [
              "<style> \n",
              "    body {\n",
              "      font-size: 28px;\n",
              "    }\n",
              "  "
            ],
            "text/plain": [
              "<IPython.core.display.HTML object>"
            ]
          },
          "metadata": {},
          "output_type": "display_data"
        },
        {
          "data": {
            "text/html": [
              "<style> \n",
              "    body {\n",
              "      font-size: 28px;\n",
              "    }\n",
              "  "
            ],
            "text/plain": [
              "<IPython.core.display.HTML object>"
            ]
          },
          "metadata": {},
          "output_type": "display_data"
        },
        {
          "name": "stdout",
          "output_type": "stream",
          "text": [
            "[24 39 85 18 39 91 28 57  2 98 89 55 21  9 65 83 98 44 71 95 72]\n",
            "[[24 39 85]\n",
            " [18 39 91]\n",
            " [28 57  2]\n",
            " [98 89 55]\n",
            " [21  9 65]\n",
            " [83 98 44]\n",
            " [71 95 72]]\n"
          ]
        }
      ],
      "source": [
        "import numpy as np \n",
        "re1 = np.random.randint(1,100,21) \n",
        "print(re1)\n",
        "re2 = re1.reshape(7,3) \n",
        "print(re2)"
      ]
    },
    {
      "cell_type": "code",
      "execution_count": null,
      "metadata": {
        "colab": {
          "base_uri": "https://localhost:8080/",
          "height": 191
        },
        "id": "Bn46dFQaku_3",
        "outputId": "a8da6161-650e-4185-9b7e-f9ae262cf79a"
      },
      "outputs": [
        {
          "data": {
            "text/html": [
              "<style> \n",
              "    body {\n",
              "      font-size: 28px;\n",
              "    }\n",
              "  "
            ],
            "text/plain": [
              "<IPython.core.display.HTML object>"
            ]
          },
          "metadata": {},
          "output_type": "display_data"
        },
        {
          "data": {
            "text/html": [
              "<style> \n",
              "    body {\n",
              "      font-size: 28px;\n",
              "    }\n",
              "  "
            ],
            "text/plain": [
              "<IPython.core.display.HTML object>"
            ]
          },
          "metadata": {},
          "output_type": "display_data"
        },
        {
          "name": "stdout",
          "output_type": "stream",
          "text": [
            "-1.0079132285320749\n",
            "===========\n",
            "[[-0.28655125  0.19906371  1.48639259  0.4697525 ]\n",
            " [-0.65072766 -1.26554316 -0.77349525 -1.45403581]\n",
            " [-0.24783729  0.94683616  2.24166359 -0.52836728]]\n"
          ]
        }
      ],
      "source": [
        "import numpy as np \n",
        "r1 = np.random.randn() \n",
        "print(r1) \n",
        "print(\"===========\")\n",
        "r2 = np.random.randn(3,4) # no tuple \n",
        "print(r2)"
      ]
    },
    {
      "cell_type": "code",
      "execution_count": 1,
      "metadata": {
        "colab": {
          "base_uri": "https://localhost:8080/",
          "height": 545
        },
        "id": "kDWY06JyoJaW",
        "outputId": "802a30b2-0317-42d2-cbab-5053dd1ffd52"
      },
      "outputs": [
        {
          "data": {
            "image/png": "[encoded data removed]",
            "text/plain": [
              "<Figure size 640x480 with 1 Axes>"
            ]
          },
          "metadata": {},
          "output_type": "display_data"
        },
        {
          "data": {
            "image/png": "[encoded data removed]",
            "text/plain": [
              "<Figure size 640x480 with 1 Axes>"
            ]
          },
          "metadata": {},
          "output_type": "display_data"
        }
      ],
      "source": [
        "import numpy as np \n",
        "from matplotlib import pyplot as plt \n",
        "samplesize = 100000 \n",
        "uniform = np.random.rand(samplesize) \n",
        "normal = np.random.randn(samplesize) \n",
        "plt.hist(uniform,bins=100) \n",
        "plt.title('rand: uniform') \n",
        "plt.show() \n",
        "plt.hist(normal,bins=100) \n",
        "plt.title('randn: normal') \n",
        "plt.show()"
      ]
    },
    {
      "cell_type": "code",
      "execution_count": null,
      "metadata": {
        "colab": {
          "base_uri": "https://localhost:8080/",
          "height": 86
        },
        "id": "lIZ3dTZcoJif",
        "outputId": "a3c447b2-7689-4d40-b049-545b31fdd73d"
      },
      "outputs": [
        {
          "data": {
            "text/html": [
              "<style> \n",
              "    body {\n",
              "      font-size: 28px;\n",
              "    }\n",
              "  "
            ],
            "text/plain": [
              "<IPython.core.display.HTML object>"
            ]
          },
          "metadata": {},
          "output_type": "display_data"
        },
        {
          "data": {
            "text/html": [
              "<style> \n",
              "    body {\n",
              "      font-size: 28px;\n",
              "    }\n",
              "  "
            ],
            "text/plain": [
              "<IPython.core.display.HTML object>"
            ]
          },
          "metadata": {},
          "output_type": "display_data"
        },
        {
          "name": "stdout",
          "output_type": "stream",
          "text": [
            "Max way1 =  222\n",
            "Max way2 =  222\n"
          ]
        }
      ],
      "source": [
        "import numpy as np \n",
        "l = [1,5,3,8,2,3,6,7,5,222,99,11,2,5,3,4,8,9,3,1,9,3] \n",
        "a = np.array(l)\n",
        "print('Max way1 = ',a.max())\n",
        "print('Max way2 = ',np.max(a))"
      ]
    },
    {
      "cell_type": "code",
      "execution_count": null,
      "metadata": {
        "colab": {
          "base_uri": "https://localhost:8080/",
          "height": 86
        },
        "id": "Vm4gg_anoJlv",
        "outputId": "c123a193-c227-48be-8541-d7cd99a623f2"
      },
      "outputs": [
        {
          "data": {
            "text/html": [
              "<style> \n",
              "    body {\n",
              "      font-size: 28px;\n",
              "    }\n",
              "  "
            ],
            "text/plain": [
              "<IPython.core.display.HTML object>"
            ]
          },
          "metadata": {},
          "output_type": "display_data"
        },
        {
          "data": {
            "text/html": [
              "<style> \n",
              "    body {\n",
              "      font-size: 28px;\n",
              "    }\n",
              "  "
            ],
            "text/plain": [
              "<IPython.core.display.HTML object>"
            ]
          },
          "metadata": {},
          "output_type": "display_data"
        },
        {
          "name": "stdout",
          "output_type": "stream",
          "text": [
            "Min =  1\n",
            "ArgMin =  19\n"
          ]
        }
      ],
      "source": [
        "l = [7,5,3,8,2,3,6,11,5,2,9,10,2,5,3,7,8,9,3,1,9,3] \n",
        "a = np.array(l) \n",
        "print('Min = ',a.min()) \n",
        "print('ArgMin = ',a.argmin()) "
      ]
    },
    {
      "cell_type": "code",
      "execution_count": null,
      "metadata": {
        "colab": {
          "base_uri": "https://localhost:8080/",
          "height": 260
        },
        "id": "ptgUaFbaoJoK",
        "outputId": "c39b03a8-5cff-4162-feb5-d8245d2e6509"
      },
      "outputs": [
        {
          "data": {
            "text/html": [
              "<style> \n",
              "    body {\n",
              "      font-size: 28px;\n",
              "    }\n",
              "  "
            ],
            "text/plain": [
              "<IPython.core.display.HTML object>"
            ]
          },
          "metadata": {},
          "output_type": "display_data"
        },
        {
          "data": {
            "text/html": [
              "<style> \n",
              "    body {\n",
              "      font-size: 28px;\n",
              "    }\n",
              "  "
            ],
            "text/plain": [
              "<IPython.core.display.HTML object>"
            ]
          },
          "metadata": {},
          "output_type": "display_data"
        },
        {
          "name": "stdout",
          "output_type": "stream",
          "text": [
            "[[1 2 3]\n",
            " [4 5 6]\n",
            " [7 8 9]]\n",
            "========\n",
            "sum (cols)=  [12 15 18]\n",
            "sum (rows)=  [ 6 15 24]\n",
            "sum =  45\n"
          ]
        }
      ],
      "source": [
        "import numpy as np \n",
        "array2d = np.array([[1,2,3],[4,5,6],[7,8,9]]) \n",
        "print(array2d)\n",
        "print(\"========\")\n",
        "print('sum (cols)= ',array2d.sum(axis=0)) #Vertical\n",
        "print('sum (rows)= ',array2d.sum(axis=1)) #Horizontal\n",
        "print('sum = ',array2d.sum()) # All data addition"
      ]
    },
    {
      "cell_type": "code",
      "execution_count": null,
      "metadata": {
        "colab": {
          "base_uri": "https://localhost:8080/",
          "height": 86
        },
        "id": "vptaofEuoJq0",
        "outputId": "3e6c43b2-8eb3-49d3-bc90-9176f5368e60"
      },
      "outputs": [
        {
          "data": {
            "text/html": [
              "<style> \n",
              "    body {\n",
              "      font-size: 28px;\n",
              "    }\n",
              "  "
            ],
            "text/plain": [
              "<IPython.core.display.HTML object>"
            ]
          },
          "metadata": {},
          "output_type": "display_data"
        },
        {
          "name": "stdout",
          "output_type": "stream",
          "text": [
            "double =  h\n",
            "single =  h\n"
          ]
        }
      ],
      "source": [
        "import numpy as np\n",
        "arr = np.array([['a','b','c'],['d','e','f'],['g','h','i']]) \n",
        "print('double = ',arr[2][1]) # double bracket notaion \n",
        "print('single = ',arr[2,1]) # single bracket notation "
      ]
    },
    {
      "cell_type": "code",
      "execution_count": null,
      "metadata": {
        "colab": {
          "base_uri": "https://localhost:8080/",
          "height": 52
        },
        "id": "uDYpKFwpkvGG",
        "outputId": "7591c853-778c-49cf-a91c-c650a27204d0"
      },
      "outputs": [
        {
          "data": {
            "text/html": [
              "<style> \n",
              "    body {\n",
              "      font-size: 28px;\n",
              "    }\n",
              "  "
            ],
            "text/plain": [
              "<IPython.core.display.HTML object>"
            ]
          },
          "metadata": {},
          "output_type": "display_data"
        },
        {
          "name": "stdout",
          "output_type": "stream",
          "text": [
            "[]\n"
          ]
        }
      ],
      "source": [
        "import numpy as np \n",
        "arr = np.array(['a','b','c','d','e','f','g','h']) \n",
        " \n",
        "print(arr[-1:1])"
      ]
    },
    {
      "cell_type": "code",
      "execution_count": null,
      "metadata": {
        "colab": {
          "base_uri": "https://localhost:8080/",
          "height": 399
        },
        "id": "u_4s0pdzkvMu",
        "outputId": "6d906ec8-15fc-4864-90d0-1684d11eb54d"
      },
      "outputs": [
        {
          "data": {
            "text/html": [
              "<style> \n",
              "    body {\n",
              "      font-size: 28px;\n",
              "    }\n",
              "  "
            ],
            "text/plain": [
              "<IPython.core.display.HTML object>"
            ]
          },
          "metadata": {},
          "output_type": "display_data"
        },
        {
          "name": "stdout",
          "output_type": "stream",
          "text": [
            "[[ 1  2  3  4  5]\n",
            " [ 6  7  8  9 10]\n",
            " [11 12 13 14 15]\n",
            " [16 17 18 19 20]\n",
            " [21 22 23 24 25]]\n",
            "==============\n",
            "[[ 5  4  3  2  1]\n",
            " [10  9  8  7  6]\n",
            " [15 14 13 12 11]\n",
            " [20 19 18 17 16]\n",
            " [25 24 23 22 21]]\n"
          ]
        }
      ],
      "source": [
        "import numpy as np\n",
        "arr = np.array([[1,2,3,4,5],[6,7,8,9,10],[11,12,13,14,15],[16,17,18,19,20],[21,22,23,24,25]])\n",
        "print(arr)\n",
        "print(\"==============\")\n",
        "print(arr[:,::-1])"
      ]
    },
    {
      "cell_type": "code",
      "execution_count": null,
      "metadata": {
        "colab": {
          "base_uri": "https://localhost:8080/",
          "height": 86
        },
        "id": "qBoJqA31Q7Q5",
        "outputId": "dbc64128-0125-47e7-b092-9328bb20b6cd"
      },
      "outputs": [
        {
          "data": {
            "text/html": [
              "<style> \n",
              "    body {\n",
              "      font-size: 28px;\n",
              "    }\n",
              "  "
            ],
            "text/plain": [
              "<IPython.core.display.HTML object>"
            ]
          },
          "metadata": {},
          "output_type": "display_data"
        },
        {
          "name": "stdout",
          "output_type": "stream",
          "text": [
            "Original Array =  [1 2 3 4 5]\n",
            "Sliced Array =  []\n"
          ]
        }
      ],
      "source": [
        "import numpy as np \n",
        "arr = np.array([1,2,3,4,5]) \n",
        "arrsliced = arr[0:3:-1] \n",
        "\n",
        "arrsliced[:] = 7 # Broadcasting \n",
        "\n",
        "print('Original Array = ', arr) \n",
        "print('Sliced Array = ',arrsliced)"
      ]
    },
    {
      "cell_type": "code",
      "execution_count": null,
      "metadata": {
        "colab": {
          "base_uri": "https://localhost:8080/"
        },
        "id": "WSWk0wqTQ7UY",
        "outputId": "fd2454a9-d4e4-4307-bdaa-2b523b303608"
      },
      "outputs": [
        {
          "name": "stdout",
          "output_type": "stream",
          "text": [
            "Python 3.5+ support = \n",
            " [[24 30 36]\n",
            " [24 30 36]\n",
            " [24 30 36]]\n"
          ]
        }
      ],
      "source": [
        "import numpy as np \n",
        "arr1 = np.array([[1,2,3],[1,2,3],[1,2,3]]) \n",
        "arr2 = np.array([[4,5,6],[4,5,6],[4,5,6]]) \n",
        "\n",
        "\n",
        "\n",
        "arrpy3dot5plus = arr1 @ arr2 \n",
        "print('Python 3.5+ support = \\n',arrpy3dot5plus)\n"
      ]
    },
    {
      "cell_type": "code",
      "execution_count": null,
      "metadata": {
        "colab": {
          "base_uri": "https://localhost:8080/",
          "height": 384
        },
        "id": "WOTEcCsUQ7aW",
        "outputId": "9104cb9d-b5e5-425a-e0f5-a9633494983c"
      },
      "outputs": [
        {
          "data": {
            "text/html": [
              "<style> \n",
              "    body {\n",
              "      font-size: 28px;\n",
              "    }\n",
              "  "
            ],
            "text/plain": [
              "<IPython.core.display.HTML object>"
            ]
          },
          "metadata": {},
          "output_type": "display_data"
        },
        {
          "ename": "ValueError",
          "evalue": "ignored",
          "output_type": "error",
          "traceback": [
            "\u001b[0;31m---------------------------------------------------------------------------\u001b[0m",
            "\u001b[0;31mValueError\u001b[0m                                Traceback (most recent call last)",
            "\u001b[0;32m<ipython-input-6-1af0520b1617>\u001b[0m in \u001b[0;36m<module>\u001b[0;34m\u001b[0m\n\u001b[1;32m      2\u001b[0m \u001b[0mdt\u001b[0m \u001b[0;34m=\u001b[0m \u001b[0mnp\u001b[0m\u001b[0;34m.\u001b[0m\u001b[0mdtype\u001b[0m\u001b[0;34m(\u001b[0m\u001b[0;34m[\u001b[0m\u001b[0;34m(\u001b[0m\u001b[0;34m'name'\u001b[0m\u001b[0;34m,\u001b[0m \u001b[0;34m'S10'\u001b[0m\u001b[0;34m)\u001b[0m\u001b[0;34m,\u001b[0m\u001b[0;34m(\u001b[0m\u001b[0;34m'age'\u001b[0m\u001b[0;34m,\u001b[0m \u001b[0mint\u001b[0m\u001b[0;34m)\u001b[0m\u001b[0;34m]\u001b[0m\u001b[0;34m)\u001b[0m\u001b[0;34m\u001b[0m\u001b[0;34m\u001b[0m\u001b[0m\n\u001b[1;32m      3\u001b[0m \u001b[0marr2\u001b[0m \u001b[0;34m=\u001b[0m \u001b[0mnp\u001b[0m\u001b[0;34m.\u001b[0m\u001b[0marray\u001b[0m\u001b[0;34m(\u001b[0m\u001b[0;34m[\u001b[0m\u001b[0;34m(\u001b[0m\u001b[0;34m'ICT'\u001b[0m\u001b[0;34m,\u001b[0m\u001b[0;36m200\u001b[0m\u001b[0;34m)\u001b[0m\u001b[0;34m,\u001b[0m\u001b[0;34m(\u001b[0m\u001b[0;34m'ABC'\u001b[0m\u001b[0;34m,\u001b[0m\u001b[0;36m300\u001b[0m\u001b[0;34m)\u001b[0m\u001b[0;34m,\u001b[0m\u001b[0;34m(\u001b[0m\u001b[0;34m'XYZ'\u001b[0m\u001b[0;34m,\u001b[0m\u001b[0;36m100\u001b[0m\u001b[0;34m)\u001b[0m\u001b[0;34m]\u001b[0m\u001b[0;34m)\u001b[0m\u001b[0;34m\u001b[0m\u001b[0;34m\u001b[0m\u001b[0m\n\u001b[0;32m----> 4\u001b[0;31m \u001b[0marr2\u001b[0m\u001b[0;34m.\u001b[0m\u001b[0msort\u001b[0m\u001b[0;34m(\u001b[0m\u001b[0morder\u001b[0m\u001b[0;34m=\u001b[0m\u001b[0;34m'age'\u001b[0m\u001b[0;34m)\u001b[0m\u001b[0;34m\u001b[0m\u001b[0;34m\u001b[0m\u001b[0m\n\u001b[0m\u001b[1;32m      5\u001b[0m \u001b[0mprint\u001b[0m\u001b[0;34m(\u001b[0m\u001b[0marr2\u001b[0m\u001b[0;34m)\u001b[0m\u001b[0;34m\u001b[0m\u001b[0;34m\u001b[0m\u001b[0m\n",
            "\u001b[0;31mValueError\u001b[0m: Cannot specify order when the array has no fields."
          ]
        }
      ],
      "source": [
        "import numpy as np \n",
        "dt = np.dtype([('name', 'S10'),('age', int)]) \n",
        "arr2 = np.array([('ICT',200),('ABC',300),('XYZ',100)],dtype=dt) \n",
        "arr2.sort(order='age') \n",
        "print(arr2)"
      ]
    },
    {
      "cell_type": "code",
      "execution_count": null,
      "metadata": {
        "id": "qbB_iy-Azdf-"
      },
      "outputs": [],
      "source": []
    },
    {
      "cell_type": "code",
      "execution_count": null,
      "metadata": {
        "id": "3oFZN_7Mzdih"
      },
      "outputs": [],
      "source": []
    },
    {
      "cell_type": "code",
      "execution_count": null,
      "metadata": {
        "id": "tyRqJwvOzdlL"
      },
      "outputs": [],
      "source": []
    },
    {
      "cell_type": "code",
      "execution_count": null,
      "metadata": {
        "id": "uwpBozP4zdok"
      },
      "outputs": [],
      "source": []
    },
    {
      "cell_type": "code",
      "execution_count": null,
      "metadata": {
        "id": "t6Z3eW8cQ7d8"
      },
      "outputs": [],
      "source": []
    }
  ],
  "metadata": {
    "colab": {
      "provenance": []
    },
    "kernelspec": {
      "display_name": "Python 3",
      "name": "python3"
    },
    "language_info": {
      "codemirror_mode": {
        "name": "ipython",
        "version": 3
      },
      "file_extension": ".py",
      "mimetype": "text/x-python",
      "name": "python",
      "nbconvert_exporter": "python",
      "pygments_lexer": "ipython3",
      "version": "3.11.2"
    }
  },
  "nbformat": 4,
  "nbformat_minor": 0
}
